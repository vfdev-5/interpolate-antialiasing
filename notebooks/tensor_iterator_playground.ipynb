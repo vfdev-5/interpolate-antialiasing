{
 "cells": [
  {
   "cell_type": "markdown",
   "id": "positive-muslim",
   "metadata": {},
   "source": [
    "---\n",
    "Setup"
   ]
  },
  {
   "cell_type": "code",
   "execution_count": 1,
   "id": "automotive-granny",
   "metadata": {},
   "outputs": [
    {
     "name": "stdout",
     "output_type": "stream",
     "text": [
      "__version__ = '1.9.0a0+gitb5647dd'\n",
      "debug = False\n",
      "cuda = None\n",
      "git_version = 'b5647dd52b48a51fec1387382deb5b59c7651512'\n",
      "hip = None\n"
     ]
    }
   ],
   "source": [
    "!cat /home/project/ml/pytorch/torch/version.py"
   ]
  },
  {
   "cell_type": "code",
   "execution_count": 2,
   "id": "answering-munich",
   "metadata": {},
   "outputs": [
    {
     "name": "stdout",
     "output_type": "stream",
     "text": [
      "/home/project/ml/pytorch/torch/package/_mock_zipreader.py:17: UserWarning: Failed to initialize NumPy: module compiled against API version 0xe but this version of numpy is 0xd (Triggered internally at  ../torch/csrc/utils/tensor_numpy.cpp:66.)\n",
      "  _dtype_to_storage = {data_type(0).dtype: data_type for data_type in _storages}\n",
      "/home/project/ml/pytorch/torch/__init__.py True\n"
     ]
    }
   ],
   "source": [
    "!PYTHONPATH=/home/project/ml/pytorch/ python -c \"import torch; print(torch.__file__, torch._C._GLIBCXX_USE_CXX11_ABI)\""
   ]
  },
  {
   "cell_type": "code",
   "execution_count": null,
   "id": "wrong-sheriff",
   "metadata": {},
   "outputs": [],
   "source": []
  },
  {
   "cell_type": "code",
   "execution_count": 3,
   "id": "adopted-drill",
   "metadata": {},
   "outputs": [],
   "source": [
    "#pragma cling add_include_path(\"/home/project/ml/pytorch/torch/include\")\n",
    "#pragma cling add_include_path(\"/home/project/ml/pytorch/torch/include/torch/csrc/api/include\")\n",
    "// If you want to add library path\n",
    "#pragma cling add_library_path(\"/home/project/ml/pytorch/torch/lib\")\n",
    "// If you want to load library\n",
    "#pragma cling load(\"libtorch\")\n",
    "#pragma cling load(\"libtorch_cpu\")\n",
    "#pragma cling load(\"libc10\")"
   ]
  },
  {
   "cell_type": "markdown",
   "id": "beneficial-facility",
   "metadata": {},
   "source": [
    "----\n",
    "\n",
    "Test"
   ]
  },
  {
   "cell_type": "code",
   "execution_count": 4,
   "id": "revised-receiver",
   "metadata": {},
   "outputs": [
    {
     "name": "stdout",
     "output_type": "stream",
     "text": [
      "CPUFloatType\n",
      " 1  1  1  1  1  1  1  1  1  1\n",
      " 1  1  1  1  1  1  1  1  1  1\n",
      " 1  1  1  1  1  1  1  1  1  1\n",
      "[ CPUFloatType{3,10} ]\n"
     ]
    }
   ],
   "source": [
    "#include <iostream>\n",
    "#include <ATen/ATen.h>\n",
    "\n",
    "auto p = at::CPU(at::kFloat);\n",
    "std::cout << p << \"\\n\";\n",
    "auto t = at::ones({3, 10}, p);\n",
    "std::cout << t << \"\\n\";"
   ]
  },
  {
   "cell_type": "code",
   "execution_count": 5,
   "id": "expected-stranger",
   "metadata": {},
   "outputs": [
    {
     "data": {
      "text/plain": [
       "2"
      ]
     },
     "execution_count": 5,
     "metadata": {},
     "output_type": "execute_result"
    }
   ],
   "source": [
    "t.sizes().size()"
   ]
  },
  {
   "cell_type": "code",
   "execution_count": null,
   "id": "applied-advice",
   "metadata": {},
   "outputs": [],
   "source": []
  },
  {
   "cell_type": "markdown",
   "id": "another-johns",
   "metadata": {},
   "source": [
    "----"
   ]
  },
  {
   "cell_type": "markdown",
   "id": "bright-vatican",
   "metadata": {},
   "source": [
    "Iterate over input (B, C, H, w), output (B, C, h, w), weights (1, 1, h * M, 1)"
   ]
  },
  {
   "cell_type": "code",
   "execution_count": 6,
   "id": "committed-election",
   "metadata": {},
   "outputs": [],
   "source": [
    "#include <vector>\n",
    "#include <ATen/native/TensorIterator.h>"
   ]
  },
  {
   "cell_type": "code",
   "execution_count": 26,
   "id": "wooden-craps",
   "metadata": {},
   "outputs": [],
   "source": [
    "at::Tensor input = at::arange(2 * 3 * 10 * 5, at::CPU(at::kFloat)).reshape({2, 3, 10, 5});\n",
    "at::Tensor output = at::zeros({2, 3, 4, 5});\n",
    "\n",
    "int ndims = input.dim();\n",
    "int reshape_dim = 2;\n",
    "int output_size = output.sizes()[reshape_dim];\n",
    "\n",
    "// Restride input\n",
    "{\n",
    "    auto shape = input.sizes().vec();\n",
    "    auto strides = input.strides().vec();\n",
    "    auto oshape = output.sizes();\n",
    "\n",
    "    for (int i=2; i<ndims; i++) {\n",
    "        shape[i] = oshape[i];\n",
    "        strides[i] = 0;\n",
    "    }\n",
    "    input = input.as_strided(shape, strides);\n",
    "}\n",
    "\n",
    "// Define indices\n",
    "at::Tensor indices;\n",
    "auto new_shape = std::vector<int64_t>(ndims);\n",
    "for (int j=0; j<new_shape.size(); j++) {\n",
    "    new_shape[j] = 1;\n",
    "}\n",
    "new_shape[reshape_dim] = output_size;\n",
    "\n",
    "indices = at::arange(new_shape[reshape_dim], at::CPU(at::kLong)).reshape(new_shape);\n",
    "indices *= (int64_t) sizeof(float);"
   ]
  },
  {
   "cell_type": "code",
   "execution_count": 27,
   "id": "specialized-mouth",
   "metadata": {},
   "outputs": [],
   "source": [
    "// Define and restride weights\n",
    "int weights_size = 3;\n",
    "at::Tensor weights;\n",
    "auto new_shape = std::vector<int64_t>(ndims);\n",
    "for (int j=0; j<new_shape.size(); j++) {\n",
    "    new_shape[j] = 1;\n",
    "}\n",
    "new_shape[reshape_dim] = output_size * weights_size;\n",
    "\n",
    "weights = at::arange(new_shape[reshape_dim], at::CPU(at::kFloat)).reshape(new_shape);\n",
    "auto strides = weights.strides().vec();\n",
    "strides[reshape_dim] = 0;\n",
    "new_shape[reshape_dim] = output_size;\n",
    "weights = weights.as_strided(new_shape, strides);"
   ]
  },
  {
   "cell_type": "code",
   "execution_count": 28,
   "id": "qualified-wichita",
   "metadata": {},
   "outputs": [
    {
     "name": "stdout",
     "output_type": "stream",
     "text": [
      "-- Input strides: [150, 50, 0, 0]\n"
     ]
    }
   ],
   "source": [
    "std::cout << \"-- Input strides: \" << input.strides() << std::endl;"
   ]
  },
  {
   "cell_type": "code",
   "execution_count": 29,
   "id": "metropolitan-corpus",
   "metadata": {},
   "outputs": [
    {
     "name": "stdout",
     "output_type": "stream",
     "text": [
      "-- Indices strides: [4, 4, 1, 1]\n"
     ]
    }
   ],
   "source": [
    "std::cout << \"-- Indices strides: \" << indices.strides() << std::endl;"
   ]
  },
  {
   "cell_type": "code",
   "execution_count": 30,
   "id": "deadly-least",
   "metadata": {},
   "outputs": [
    {
     "name": "stdout",
     "output_type": "stream",
     "text": [
      "-- Weights strides: [12, 12, 0, 1]\n"
     ]
    }
   ],
   "source": [
    "std::cout << \"-- Weights strides: \" << weights.strides() << std::endl;"
   ]
  },
  {
   "cell_type": "code",
   "execution_count": 31,
   "id": "applicable-thesis",
   "metadata": {},
   "outputs": [],
   "source": [
    "auto iter = at::TensorIteratorConfig()\n",
    "    .check_all_same_dtype(false)\n",
    "    .declare_static_dtype_and_device(input.scalar_type(), input.device())\n",
    "    .add_output(output)\n",
    "    .add_input(input)\n",
    "    .add_input(indices)    \n",
    "    .add_input(weights)\n",
    "    .build();"
   ]
  },
  {
   "cell_type": "code",
   "execution_count": 34,
   "id": "appreciated-mumbai",
   "metadata": {},
   "outputs": [
    {
     "name": "stdout",
     "output_type": "stream",
     "text": [
      "n : 5\n",
      "Output stride: 4\n",
      "Input stride: 0\n",
      "Indices stride: 0\n",
      "Weights stride: 0\n",
      " - input data: \n",
      "0 0 0 0 0 \n",
      " - indices data: \n",
      "0 0 0 0 0 \n",
      " - weights data: \n",
      "0 1 2 | 0 1 2 | 0 1 2 | 0 1 2 | 0 1 2 | \n",
      "\n",
      "n : 5\n",
      "Output stride: 4\n",
      "Input stride: 0\n",
      "Indices stride: 0\n",
      "Weights stride: 0\n",
      " - input data: \n",
      "1 1 1 1 1 \n",
      " - indices data: \n",
      "4 4 4 4 4 \n",
      " - weights data: \n",
      "3 4 5 | 3 4 5 | 3 4 5 | 3 4 5 | 3 4 5 | \n",
      "\n",
      "n : 5\n",
      "Output stride: 4\n",
      "Input stride: 0\n",
      "Indices stride: 0\n",
      "Weights stride: 0\n",
      " - input data: \n",
      "2 2 2 2 2 \n",
      " - indices data: \n",
      "8 8 8 8 8 \n",
      " - weights data: \n",
      "6 7 8 | 6 7 8 | 6 7 8 | 6 7 8 | 6 7 8 | \n",
      "\n",
      "n : 5\n",
      "Output stride: 4\n",
      "Input stride: 0\n",
      "Indices stride: 0\n",
      "Weights stride: 0\n",
      " - input data: \n",
      "3 3 3 3 3 \n",
      " - indices data: \n",
      "12 12 12 12 12 \n",
      " - weights data: \n",
      "9 10 11 | 9 10 11 | 9 10 11 | 9 10 11 | 9 10 11 | \n",
      "\n",
      "n : 5\n",
      "Output stride: 4\n",
      "Input stride: 0\n",
      "Indices stride: 0\n",
      "Weights stride: 0\n",
      " - input data: \n",
      "50 50 50 50 50 \n",
      " - indices data: \n",
      "0 0 0 0 0 \n",
      " - weights data: \n",
      "0 1 2 | 0 1 2 | 0 1 2 | 0 1 2 | 0 1 2 | \n",
      "\n",
      "n : 5\n",
      "Output stride: 4\n",
      "Input stride: 0\n",
      "Indices stride: 0\n",
      "Weights stride: 0\n",
      " - input data: \n",
      "51 51 51 51 51 \n",
      " - indices data: \n",
      "4 4 4 4 4 \n",
      " - weights data: \n",
      "3 4 5 | 3 4 5 | 3 4 5 | 3 4 5 | 3 4 5 | \n",
      "\n",
      "n : 5\n",
      "Output stride: 4\n",
      "Input stride: 0\n",
      "Indices stride: 0\n",
      "Weights stride: 0\n",
      " - input data: \n",
      "52 52 52 52 52 \n",
      " - indices data: \n",
      "8 8 8 8 8 \n",
      " - weights data: \n",
      "6 7 8 | 6 7 8 | 6 7 8 | 6 7 8 | 6 7 8 | \n",
      "\n",
      "n : 5\n",
      "Output stride: 4\n",
      "Input stride: 0\n",
      "Indices stride: 0\n",
      "Weights stride: 0\n",
      " - input data: \n",
      "53 53 53 53 53 \n",
      " - indices data: \n",
      "12 12 12 12 12 \n",
      " - weights data: \n",
      "9 10 11 | 9 10 11 | 9 10 11 | 9 10 11 | 9 10 11 | \n",
      "\n",
      "n : 5\n",
      "Output stride: 4\n",
      "Input stride: 0\n",
      "Indices stride: 0\n",
      "Weights stride: 0\n",
      " - input data: \n",
      "100 100 100 100 100 \n",
      " - indices data: \n",
      "0 0 0 0 0 \n",
      " - weights data: \n",
      "0 1 2 | 0 1 2 | 0 1 2 | 0 1 2 | 0 1 2 | \n",
      "\n",
      "n : 5\n",
      "Output stride: 4\n",
      "Input stride: 0\n",
      "Indices stride: 0\n",
      "Weights stride: 0\n",
      " - input data: \n",
      "101 101 101 101 101 \n",
      " - indices data: \n",
      "4 4 4 4 4 \n",
      " - weights data: \n",
      "3 4 5 | 3 4 5 | 3 4 5 | 3 4 5 | 3 4 5 | \n",
      "\n",
      "n : 5\n",
      "Output stride: 4\n",
      "Input stride: 0\n",
      "Indices stride: 0\n",
      "Weights stride: 0\n",
      " - input data: \n",
      "102 102 102 102 102 \n",
      " - indices data: \n",
      "8 8 8 8 8 \n",
      " - weights data: \n",
      "6 7 8 | 6 7 8 | 6 7 8 | 6 7 8 | 6 7 8 | \n",
      "\n",
      "n : 5\n",
      "Output stride: 4\n",
      "Input stride: 0\n",
      "Indices stride: 0\n",
      "Weights stride: 0\n",
      " - input data: \n",
      "103 103 103 103 103 \n",
      " - indices data: \n",
      "12 12 12 12 12 \n",
      " - weights data: \n",
      "9 10 11 | 9 10 11 | 9 10 11 | 9 10 11 | 9 10 11 | \n",
      "\n",
      "n : 5\n",
      "Output stride: 4\n",
      "Input stride: 0\n",
      "Indices stride: 0\n",
      "Weights stride: 0\n",
      " - input data: \n",
      "150 150 150 150 150 \n",
      " - indices data: \n",
      "0 0 0 0 0 \n",
      " - weights data: \n",
      "0 1 2 | 0 1 2 | 0 1 2 | 0 1 2 | 0 1 2 | \n",
      "\n",
      "n : 5\n",
      "Output stride: 4\n",
      "Input stride: 0\n",
      "Indices stride: 0\n",
      "Weights stride: 0\n",
      " - input data: \n",
      "151 151 151 151 151 \n",
      " - indices data: \n",
      "4 4 4 4 4 \n",
      " - weights data: \n",
      "3 4 5 | 3 4 5 | 3 4 5 | 3 4 5 | 3 4 5 | \n",
      "\n",
      "n : 5\n",
      "Output stride: 4\n",
      "Input stride: 0\n",
      "Indices stride: 0\n",
      "Weights stride: 0\n",
      " - input data: \n",
      "152 152 152 152 152 \n",
      " - indices data: \n",
      "8 8 8 8 8 \n",
      " - weights data: \n",
      "6 7 8 | 6 7 8 | 6 7 8 | 6 7 8 | 6 7 8 | \n",
      "\n",
      "n : 5\n",
      "Output stride: 4\n",
      "Input stride: 0\n",
      "Indices stride: 0\n",
      "Weights stride: 0\n",
      " - input data: \n",
      "153 153 153 153 153 \n",
      " - indices data: \n",
      "12 12 12 12 12 \n",
      " - weights data: \n",
      "9 10 11 | 9 10 11 | 9 10 11 | 9 10 11 | 9 10 11 | \n",
      "\n",
      "n : 5\n",
      "Output stride: 4\n",
      "Input stride: 0\n",
      "Indices stride: 0\n",
      "Weights stride: 0\n",
      " - input data: \n",
      "200 200 200 200 200 \n",
      " - indices data: \n",
      "0 0 0 0 0 \n",
      " - weights data: \n",
      "0 1 2 | 0 1 2 | 0 1 2 | 0 1 2 | 0 1 2 | \n",
      "\n",
      "n : 5\n",
      "Output stride: 4\n",
      "Input stride: 0\n",
      "Indices stride: 0\n",
      "Weights stride: 0\n",
      " - input data: \n",
      "201 201 201 201 201 \n",
      " - indices data: \n",
      "4 4 4 4 4 \n",
      " - weights data: \n",
      "3 4 5 | 3 4 5 | 3 4 5 | 3 4 5 | 3 4 5 | \n",
      "\n",
      "n : 5\n",
      "Output stride: 4\n",
      "Input stride: 0\n",
      "Indices stride: 0\n",
      "Weights stride: 0\n",
      " - input data: \n",
      "202 202 202 202 202 \n",
      " - indices data: \n",
      "8 8 8 8 8 \n",
      " - weights data: \n",
      "6 7 8 | 6 7 8 | 6 7 8 | 6 7 8 | 6 7 8 | \n",
      "\n",
      "n : 5\n",
      "Output stride: 4\n",
      "Input stride: 0\n",
      "Indices stride: 0\n",
      "Weights stride: 0\n",
      " - input data: \n",
      "203 203 203 203 203 \n",
      " - indices data: \n",
      "12 12 12 12 12 \n",
      " - weights data: \n",
      "9 10 11 | 9 10 11 | 9 10 11 | 9 10 11 | 9 10 11 | \n",
      "\n",
      "n : 5\n",
      "Output stride: 4\n",
      "Input stride: 0\n",
      "Indices stride: 0\n",
      "Weights stride: 0\n",
      " - input data: \n",
      "250 250 250 250 250 \n",
      " - indices data: \n",
      "0 0 0 0 0 \n",
      " - weights data: \n",
      "0 1 2 | 0 1 2 | 0 1 2 | 0 1 2 | 0 1 2 | \n",
      "\n",
      "n : 5\n",
      "Output stride: 4\n",
      "Input stride: 0\n",
      "Indices stride: 0\n",
      "Weights stride: 0\n",
      " - input data: \n",
      "251 251 251 251 251 \n",
      " - indices data: \n",
      "4 4 4 4 4 \n",
      " - weights data: \n",
      "3 4 5 | 3 4 5 | 3 4 5 | 3 4 5 | 3 4 5 | \n",
      "\n",
      "n : 5\n",
      "Output stride: 4\n",
      "Input stride: 0\n",
      "Indices stride: 0\n",
      "Weights stride: 0\n",
      " - input data: \n",
      "252 252 252 252 252 \n",
      " - indices data: \n",
      "8 8 8 8 8 \n",
      " - weights data: \n",
      "6 7 8 | 6 7 8 | 6 7 8 | 6 7 8 | 6 7 8 | \n",
      "\n",
      "n : 5\n",
      "Output stride: 4\n",
      "Input stride: 0\n",
      "Indices stride: 0\n",
      "Weights stride: 0\n",
      " - input data: \n",
      "253 253 253 253 253 \n",
      " - indices data: \n",
      "12 12 12 12 12 \n",
      " - weights data: \n",
      "9 10 11 | 9 10 11 | 9 10 11 | 9 10 11 | 9 10 11 | \n",
      "\n"
     ]
    }
   ],
   "source": [
    "auto test_loop = [&](char **data, const int64_t* strides, int64_t n) {\n",
    "\n",
    "    std::cout << \"n : \" << n << std::endl;\n",
    "    std::cout << \"Output stride: \" << strides[0] << std::endl;\n",
    "    std::cout << \"Input stride: \" << strides[1] << std::endl;\n",
    "    std::cout << \"Indices stride: \" << strides[2] << std::endl;\n",
    "    std::cout << \"Weights stride: \" << strides[3] << std::endl;\n",
    "    \n",
    "    auto * out = data[0];\n",
    "    auto * in = data[1];\n",
    "    auto * idx = data[2];\n",
    "    auto * wts = data[3];\n",
    "\n",
    "    \n",
    "    // assume float data type for this example.\n",
    "    std::cout << \" - input data: \" << std::endl;\n",
    "    for (int i = 0; i < n; i++) {\n",
    "        std::cout << *reinterpret_cast<float*>(&in[i * strides[1] + idx[i * strides[2]]]) << \" \";\n",
    "    }\n",
    "    std::cout << std::endl;\n",
    "\n",
    "    std::cout << \" - indices data: \" << std::endl;\n",
    "    for (int i = 0; i < n; i++) {\n",
    "        std::cout << *reinterpret_cast<long*>(&idx[i * strides[2]]) << \" \";\n",
    "    }\n",
    "    std::cout << std::endl;\n",
    "        \n",
    "    std::cout << \" - weights data: \" << std::endl;\n",
    "    for (int i = 0; i < n; i++) {\n",
    "        for (int j = 0; j < weights_size; j++) {\n",
    "            std::cout << *reinterpret_cast<float*>(&wts[i * strides[3] + weights_size * idx[i * strides[2]] + j * sizeof(float)]) << \" \";            \n",
    "        }\n",
    "        std::cout << \"| \";\n",
    "\n",
    "    }\n",
    "    std::cout << std::endl;\n",
    "    \n",
    "    std::cout << std::endl;\n",
    "};\n",
    "\n",
    "\n",
    "\n",
    "iter.for_each(test_loop);"
   ]
  },
  {
   "cell_type": "code",
   "execution_count": null,
   "id": "residential-concord",
   "metadata": {},
   "outputs": [],
   "source": []
  },
  {
   "cell_type": "code",
   "execution_count": null,
   "id": "brave-filename",
   "metadata": {},
   "outputs": [],
   "source": []
  },
  {
   "cell_type": "code",
   "execution_count": null,
   "id": "bizarre-journalist",
   "metadata": {},
   "outputs": [],
   "source": []
  },
  {
   "cell_type": "markdown",
   "id": "worthy-pocket",
   "metadata": {},
   "source": [
    "---\n",
    "Compare 2 implementations"
   ]
  },
  {
   "cell_type": "code",
   "execution_count": 6,
   "id": "excess-procedure",
   "metadata": {},
   "outputs": [],
   "source": [
    "namespace at {\n",
    "namespace native {\n",
    "\n",
    "\n",
    "// Helper structs to use with ti_upsample_generic_Nd_kernel_impl\n",
    "template <typename index_t, typename scalar_t>\n",
    "struct HelperInterpBase {\n",
    "\n",
    "  template <typename filter_fn_t>\n",
    "  static inline std::vector<Tensor> _compute_indices_weights_aa(\n",
    "      int64_t input_size,\n",
    "      int64_t output_size,\n",
    "      int64_t stride,\n",
    "      int64_t ndims,\n",
    "      int64_t reshape_dim,\n",
    "      bool align_corners,\n",
    "      scalar_t scale,\n",
    "      int& in_out_interp_size,\n",
    "      filter_fn_t filter_fn\n",
    "    ) {\n",
    "\n",
    "    int interp_size = in_out_interp_size;\n",
    "    scalar_t support =\n",
    "        (scale >= 1.0) ? (interp_size * 0.5) * scale : interp_size * 0.5;\n",
    "    interp_size = (int)ceilf(support) * 2 + 1;\n",
    "\n",
    "    // return interp_size\n",
    "    in_out_interp_size = interp_size;\n",
    "\n",
    "    std::vector<Tensor> output;\n",
    "    auto new_shape = std::vector<int64_t>(ndims, 1);\n",
    "    new_shape[reshape_dim] = output_size;\n",
    "\n",
    "    // ---- Bounds approach as in PIL -----\n",
    "    // bounds: xmin/xmax\n",
    "    output.emplace_back(\n",
    "        empty(new_shape, CPU(c10::CppTypeToScalarType<index_t>())));\n",
    "    output.emplace_back(\n",
    "        empty(new_shape, CPU(c10::CppTypeToScalarType<index_t>())));\n",
    "    output.emplace_back(\n",
    "        empty(new_shape, CPU(c10::CppTypeToScalarType<index_t>())));\n",
    "\n",
    "    std::cout << \"support: \" << support << std::endl;\n",
    "    std::cout << \"interp_size: \" << interp_size << std::endl;\n",
    "\n",
    "    {\n",
    "      // Weights\n",
    "      new_shape[reshape_dim] = output_size * interp_size;\n",
    "      std::cout << \"new_shape: \" << output_size * interp_size << std::endl;\n",
    "      auto wts = empty(new_shape, CPU(c10::CppTypeToScalarType<scalar_t>()));\n",
    "      auto strides = wts.strides().vec();\n",
    "      strides[reshape_dim] = 0;\n",
    "      new_shape[reshape_dim] = output_size;\n",
    "      wts = wts.as_strided(new_shape, strides);\n",
    "      output.emplace_back(wts);\n",
    "      // Weights indices\n",
    "      output.emplace_back(\n",
    "          empty(new_shape, CPU(c10::CppTypeToScalarType<index_t>())));\n",
    "    }\n",
    "\n",
    "    scalar_t center, total_w, invscale = (scale >= 1.0) ? 1.0 / scale : 1.0;\n",
    "    index_t zero = static_cast<index_t>(0);\n",
    "    int64_t* idx_ptr_xmin = output[0].data_ptr<index_t>();\n",
    "    int64_t* idx_ptr_size = output[1].data_ptr<index_t>();\n",
    "    int64_t* idx_ptr_stride = output[2].data_ptr<index_t>();\n",
    "    scalar_t* wt_ptr = output[3].data_ptr<scalar_t>();\n",
    "    int64_t* wt_idx_ptr = output[4].data_ptr<index_t>();\n",
    "\n",
    "    int64_t xmin, xmax, j;\n",
    "\n",
    "    for (int64_t i = 0; i < output_size; i++) {\n",
    "      center = scale * (i + 0.5);\n",
    "      xmin = std::max(static_cast<int64_t>(center - support + 0.5), zero);\n",
    "      xmax =\n",
    "          std::min(static_cast<int64_t>(center + support + 0.5), input_size) -\n",
    "          xmin;\n",
    "      idx_ptr_xmin[i] = xmin * stride;\n",
    "      idx_ptr_size[i] = xmax;\n",
    "      idx_ptr_stride[i] = stride;\n",
    "\n",
    "      wt_idx_ptr[i] = i * interp_size * sizeof(scalar_t);\n",
    "\n",
    "      total_w = 0.0;\n",
    "      for (j = 0; j < xmax; j++) {\n",
    "        scalar_t w = filter_fn((j + xmin - center + 0.5) * invscale);\n",
    "        wt_ptr[i * interp_size + j] = w;\n",
    "        total_w += w;\n",
    "      }\n",
    "      for (j = 0; j < xmax; j++) {\n",
    "        if (total_w != 0.0) {\n",
    "          wt_ptr[i * interp_size + j] /= total_w;\n",
    "        }\n",
    "      }\n",
    "\n",
    "      for (; j < interp_size; j++) {\n",
    "        wt_ptr[i * interp_size + j] = static_cast<scalar_t>(0.0);\n",
    "      }\n",
    "    }\n",
    "    return output;\n",
    "  }\n",
    "\n",
    "};\n",
    "\n",
    "}\n",
    "}"
   ]
  },
  {
   "cell_type": "code",
   "execution_count": 7,
   "id": "quality-sweden",
   "metadata": {},
   "outputs": [],
   "source": [
    "namespace at {\n",
    "namespace native {\n",
    "\n",
    "    \n",
    "template <typename scalar_t>\n",
    "static inline scalar_t compute_scales_value(\n",
    "    const c10::optional<double> scale,\n",
    "    int64_t input_size,\n",
    "    int64_t output_size) {\n",
    "      // see Note [compute_scales_value]\n",
    "      // FIXME: remove magic > 0 after we ensure no models were serialized with -1 defaults.\n",
    "      return (scale.has_value() && scale.value() > 0.)\n",
    "          ? static_cast<scalar_t>(1.0 / scale.value())\n",
    "          : (static_cast<scalar_t>(input_size) / output_size);\n",
    "}    \n",
    "    \n",
    "\n",
    "template <typename scalar_t>\n",
    "static inline scalar_t area_pixel_compute_scale(\n",
    "    int64_t input_size,\n",
    "    int64_t output_size,\n",
    "    bool align_corners,\n",
    "    const c10::optional<double> scale) {\n",
    "  // see Note [area_pixel_compute_scale]\n",
    "  if (output_size > 1) {\n",
    "    return align_corners\n",
    "        ? static_cast<scalar_t>(input_size - 1) / (output_size - 1)\n",
    "        : compute_scales_value<scalar_t>(scale, input_size, output_size);\n",
    "  } else {\n",
    "    return scalar_t(0);\n",
    "  }\n",
    "}   \n",
    "\n",
    "}\n",
    "}"
   ]
  },
  {
   "cell_type": "code",
   "execution_count": 8,
   "id": "stupid-juice",
   "metadata": {},
   "outputs": [],
   "source": [
    "namespace at {\n",
    "namespace native {\n",
    "\n",
    "    \n",
    "template <typename index_t, typename scalar_t>\n",
    "struct HelperInterpLinear : public HelperInterpBase<index_t, scalar_t> {\n",
    "  static const int interp_size = 2;\n",
    "\n",
    "  // taken from\n",
    "  // https://github.com/python-pillow/Pillow/blob/6812205f18ca4ef54372e87e1a13ce4a859434df/\n",
    "  // src/libImaging/Resample.c#L20-L29\n",
    "  static inline scalar_t _filter(scalar_t x) {\n",
    "    if (x < 0.0) {\n",
    "      x = -x;\n",
    "    }\n",
    "    if (x < 1.0) {\n",
    "      return 1.0 - x;\n",
    "    }\n",
    "    return 0.0;\n",
    "  }\n",
    "\n",
    "  static inline std::vector<Tensor> compute_indices_weights(\n",
    "      int64_t input_size,\n",
    "      int64_t output_size,\n",
    "      int64_t stride,\n",
    "      int64_t ndims,\n",
    "      int64_t reshape_dim,\n",
    "      bool align_corners,\n",
    "      const c10::optional<double> opt_scale,\n",
    "      bool antialias,\n",
    "      int& out_interp_size) {\n",
    "\n",
    "    TORCH_INTERNAL_ASSERT(antialias);\n",
    "    scalar_t scale = area_pixel_compute_scale<scalar_t>(\n",
    "        input_size, output_size, align_corners, opt_scale);\n",
    "\n",
    "    std::cout << \"scale: \" << scale << std::endl;\n",
    "\n",
    "    out_interp_size = HelperInterpLinear<index_t, scalar_t>::interp_size;\n",
    "    return HelperInterpLinear<index_t, scalar_t>::_compute_indices_weights_aa(\n",
    "        input_size,\n",
    "        output_size,\n",
    "        stride,\n",
    "        ndims,\n",
    "        reshape_dim,\n",
    "        align_corners,\n",
    "        scale,\n",
    "        out_interp_size,\n",
    "        _filter);\n",
    "  }\n",
    "};\n",
    "\n",
    "    \n",
    "}\n",
    "}"
   ]
  },
  {
   "cell_type": "code",
   "execution_count": 9,
   "id": "caring-accuracy",
   "metadata": {},
   "outputs": [
    {
     "name": "stdout",
     "output_type": "stream",
     "text": [
      "scale: 6.4\n",
      "support: 6.4\n",
      "interp_size: 15\n",
      "new_shape: 150\n"
     ]
    }
   ],
   "source": [
    "int out_interp_size;\n",
    "auto expected_result = at::native::HelperInterpLinear<int64_t, float>::compute_indices_weights(64, 10, 5, 4, 2, false, c10::nullopt, true, out_interp_size);"
   ]
  },
  {
   "cell_type": "code",
   "execution_count": 10,
   "id": "innovative-johns",
   "metadata": {},
   "outputs": [
    {
     "data": {
      "text/plain": [
       "5"
      ]
     },
     "execution_count": 10,
     "metadata": {},
     "output_type": "execute_result"
    }
   ],
   "source": [
    "expected_result.size()"
   ]
  },
  {
   "cell_type": "code",
   "execution_count": 27,
   "id": "significant-cornell",
   "metadata": {},
   "outputs": [
    {
     "name": "stdout",
     "output_type": "stream",
     "text": [
      "(1,1,.,.) = \n",
      "    0\n",
      "   15\n",
      "   50\n",
      "   80\n",
      "  110\n",
      "  145\n",
      "  175\n",
      "  210\n",
      "  240\n",
      "  270\n",
      "[ CPULongType{1,1,10,1} ]"
     ]
    }
   ],
   "source": [
    "std::cout << expected_result[0];"
   ]
  },
  {
   "cell_type": "code",
   "execution_count": 46,
   "id": "democratic-bibliography",
   "metadata": {},
   "outputs": [
    {
     "name": "stdout",
     "output_type": "stream",
     "text": [
      "0.103352 0.131285 0.159218 0.170391 0.142458 0.114525 0.0865922 0.0586592 0.0307263 0.0027933 0 0 0 0 0 "
     ]
    }
   ],
   "source": [
    "float * w_ptr = (float *) expected_result[3].data_ptr();\n",
    "\n",
    "int o = 0; \n",
    "\n",
    "for (int i=0; i<out_interp_size; i++) {\n",
    "    std::cout << w_ptr[o * out_interp_size + i] << \" \";\n",
    "}\n"
   ]
  },
  {
   "cell_type": "code",
   "execution_count": null,
   "id": "another-attachment",
   "metadata": {},
   "outputs": [],
   "source": []
  },
  {
   "cell_type": "code",
   "execution_count": 12,
   "id": "voluntary-laundry",
   "metadata": {},
   "outputs": [],
   "source": [
    "#include <ATen/AccumulateType.h>"
   ]
  },
  {
   "cell_type": "code",
   "execution_count": 13,
   "id": "intimate-reference",
   "metadata": {},
   "outputs": [],
   "source": [
    "auto t_weights = at::empty({out_interp_size});\n",
    "auto weights = t_weights.accessor<float, 1>();\n",
    "float support = 6.4;\n",
    "float scale = 6.4;"
   ]
  },
  {
   "cell_type": "code",
   "execution_count": 40,
   "id": "opening-domain",
   "metadata": {},
   "outputs": [],
   "source": [
    "template <typename scalar_t>\n",
    "static inline scalar_t bilinear_filter(scalar_t x) {\n",
    "    if (x < 0.0) {\n",
    "      x = -x;\n",
    "    }\n",
    "    if (x < 1.0) {\n",
    "      return 1.0 - x;\n",
    "    }\n",
    "    return 0.0;\n",
    "}\n",
    "\n",
    "\n",
    "template <typename scalar_t, typename accscalar_t>\n",
    "static void compute_weights(\n",
    "    const int64_t i,\n",
    "    const int64_t input_size,\n",
    "    const accscalar_t scale,\n",
    "    const accscalar_t support,\n",
    "    at::TensorAccessor<scalar_t, 1> weights,\n",
    "    int64_t & xmin,\n",
    "    int64_t & xmax) {\n",
    "\n",
    "  int64_t interp_size = weights.size(0);\n",
    "  accscalar_t invscale = (scale >= 1.0) ? 1.0 / scale : 1.0;\n",
    "  accscalar_t center = scale * (i + 0.5);\n",
    "  xmin = fmax(static_cast<int64_t>(center - support + 0.5), static_cast<int64_t>(0));\n",
    "  xmax = fmin(static_cast<int64_t>(center + support + 0.5), input_size) - xmin;\n",
    "\n",
    "  accscalar_t total_w = 0.0;\n",
    "  int64_t j = 0;\n",
    "  for (j = 0; j < xmax; j++) {\n",
    "    accscalar_t w = bilinear_filter((j + xmin - center + 0.5) * invscale);\n",
    "    weights[j] = static_cast<scalar_t>(w);\n",
    "    total_w += w;\n",
    "  }\n",
    "  for (j = 0; j < xmax; j++) {\n",
    "    if (total_w != 0.0) {\n",
    "      weights[j] /= total_w;\n",
    "    }\n",
    "  }\n",
    "  for (; j < interp_size; j++) {\n",
    "    weights[j] = static_cast<scalar_t>(0.0);\n",
    "  }\n",
    "}"
   ]
  },
  {
   "cell_type": "code",
   "execution_count": 41,
   "id": "manual-rotation",
   "metadata": {},
   "outputs": [],
   "source": [
    "int64_t xmin, xsize;\n",
    "compute_weights(2, 64, scale, support, weights, xmin, xsize);"
   ]
  },
  {
   "cell_type": "code",
   "execution_count": 42,
   "id": "fleet-light",
   "metadata": {},
   "outputs": [
    {
     "data": {
      "text/plain": [
       "12"
      ]
     },
     "execution_count": 42,
     "metadata": {},
     "output_type": "execute_result"
    }
   ],
   "source": [
    "xsize"
   ]
  },
  {
   "cell_type": "code",
   "execution_count": 43,
   "id": "hollow-fashion",
   "metadata": {
    "tags": []
   },
   "outputs": [
    {
     "name": "stdout",
     "output_type": "stream",
     "text": [
      "0.0220588 0.0465686 0.0710784 0.0955882 0.120098 0.144608 0.144608 0.120098 0.0955882 0.0710784 0.0465686 0.0220588 0 0 0 "
     ]
    }
   ],
   "source": [
    "float * w_ptr = (float *) t_weights.data_ptr();\n",
    "\n",
    "for (int i=0; i<out_interp_size; i++) {\n",
    "    std::cout << w_ptr[i] << \" \";\n",
    "}\n"
   ]
  },
  {
   "cell_type": "code",
   "execution_count": 45,
   "id": "hungry-upset",
   "metadata": {},
   "outputs": [
    {
     "name": "stdout",
     "output_type": "stream",
     "text": [
      "0.0220588\n",
      "[ CPUFloatType{} ]"
     ]
    }
   ],
   "source": [
    "std::cout << t_weights[0];"
   ]
  },
  {
   "cell_type": "code",
   "execution_count": null,
   "id": "continent-shareware",
   "metadata": {},
   "outputs": [],
   "source": []
  },
  {
   "cell_type": "code",
   "execution_count": null,
   "id": "false-separate",
   "metadata": {},
   "outputs": [],
   "source": []
  },
  {
   "cell_type": "code",
   "execution_count": 47,
   "id": "ahead-perth",
   "metadata": {},
   "outputs": [
    {
     "data": {
      "text/plain": [
       "201"
      ]
     },
     "execution_count": 47,
     "metadata": {},
     "output_type": "execute_result"
    }
   ],
   "source": [
    "float support = 100.0;\n",
    "int interp_size = (int)ceilf(support) * 2 + 1;\n",
    "interp_size"
   ]
  },
  {
   "cell_type": "code",
   "execution_count": null,
   "id": "passive-contractor",
   "metadata": {},
   "outputs": [],
   "source": []
  },
  {
   "cell_type": "code",
   "execution_count": null,
   "id": "respective-liability",
   "metadata": {},
   "outputs": [],
   "source": []
  },
  {
   "cell_type": "code",
   "execution_count": 69,
   "id": "interpreted-convertible",
   "metadata": {},
   "outputs": [],
   "source": [
    "template<typename scalar_t>\n",
    "scalar_t pow2(scalar_t x) {\n",
    "    return x * x;\n",
    "}"
   ]
  },
  {
   "cell_type": "code",
   "execution_count": 70,
   "id": "supposed-indicator",
   "metadata": {},
   "outputs": [],
   "source": [
    "template<typename scalar_t>\n",
    "scalar_t pow3(scalar_t x) {\n",
    "    return x * x * x;\n",
    "}"
   ]
  },
  {
   "cell_type": "code",
   "execution_count": 71,
   "id": "welsh-standard",
   "metadata": {},
   "outputs": [],
   "source": [
    "template<typename scalar_t, typename func_t>\n",
    "scalar_t apply(scalar_t x, func_t func) {\n",
    "    return func(x) + 1.2;\n",
    "}"
   ]
  },
  {
   "cell_type": "code",
   "execution_count": 72,
   "id": "popular-optimum",
   "metadata": {},
   "outputs": [],
   "source": [
    "template<typename scalar_t, int ptype>\n",
    "scalar_t compute(scalar_t x) {\n",
    "\n",
    "    typedef scalar_t(*func_t)(scalar_t);\n",
    "    if (ptype == 2) {        \n",
    "        return apply<scalar_t, func_t>(x, pow2);\n",
    "    } else if (ptype == 3) {\n",
    "        return apply<scalar_t, func_t>(x, pow3);\n",
    "    }\n",
    "    return -1.0;\n",
    "}"
   ]
  },
  {
   "cell_type": "code",
   "execution_count": 73,
   "id": "touched-queens",
   "metadata": {},
   "outputs": [
    {
     "data": {
      "text/plain": [
       "5.20000f"
      ]
     },
     "execution_count": 73,
     "metadata": {},
     "output_type": "execute_result"
    }
   ],
   "source": [
    "compute<float, 2>(2.0f)"
   ]
  },
  {
   "cell_type": "code",
   "execution_count": 75,
   "id": "consolidated-nashville",
   "metadata": {},
   "outputs": [
    {
     "data": {
      "text/plain": [
       "10"
      ]
     },
     "execution_count": 75,
     "metadata": {},
     "output_type": "execute_result"
    }
   ],
   "source": [
    "compute<int, 2>(3)"
   ]
  },
  {
   "cell_type": "code",
   "execution_count": null,
   "id": "alternative-israel",
   "metadata": {},
   "outputs": [],
   "source": []
  }
 ],
 "metadata": {
  "kernelspec": {
   "display_name": "C++14",
   "language": "C++14",
   "name": "xcpp14"
  },
  "language_info": {
   "codemirror_mode": "text/x-c++src",
   "file_extension": ".cpp",
   "mimetype": "text/x-c++src",
   "name": "c++",
   "version": "14"
  }
 },
 "nbformat": 4,
 "nbformat_minor": 5
}
