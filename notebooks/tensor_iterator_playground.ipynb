{
 "cells": [
  {
   "cell_type": "markdown",
   "id": "bigger-frequency",
   "metadata": {},
   "source": [
    "---\n",
    "Setup"
   ]
  },
  {
   "cell_type": "code",
   "execution_count": 1,
   "id": "exempt-morris",
   "metadata": {},
   "outputs": [
    {
     "name": "stdout",
     "output_type": "stream",
     "text": [
      "__version__ = '1.9.0a0+gitb5647dd'\n",
      "debug = False\n",
      "cuda = None\n",
      "git_version = 'b5647dd52b48a51fec1387382deb5b59c7651512'\n",
      "hip = None\n"
     ]
    }
   ],
   "source": [
    "!cat /home/project/ml/pytorch/torch/version.py"
   ]
  },
  {
   "cell_type": "code",
   "execution_count": 2,
   "id": "legendary-invite",
   "metadata": {},
   "outputs": [
    {
     "name": "stdout",
     "output_type": "stream",
     "text": [
      "/home/project/ml/pytorch/torch/package/_mock_zipreader.py:17: UserWarning: Failed to initialize NumPy: module compiled against API version 0xe but this version of numpy is 0xd (Triggered internally at  ../torch/csrc/utils/tensor_numpy.cpp:66.)\n",
      "  _dtype_to_storage = {data_type(0).dtype: data_type for data_type in _storages}\n",
      "/home/project/ml/pytorch/torch/__init__.py True\n"
     ]
    }
   ],
   "source": [
    "!PYTHONPATH=/home/project/ml/pytorch/ python -c \"import torch; print(torch.__file__, torch._C._GLIBCXX_USE_CXX11_ABI)\""
   ]
  },
  {
   "cell_type": "code",
   "execution_count": null,
   "id": "returning-average",
   "metadata": {},
   "outputs": [],
   "source": []
  },
  {
   "cell_type": "code",
   "execution_count": 3,
   "id": "potential-straight",
   "metadata": {},
   "outputs": [],
   "source": [
    "#pragma cling add_include_path(\"/home/project/ml/pytorch/torch/include\")\n",
    "#pragma cling add_include_path(\"/home/project/ml/pytorch/torch/include/torch/csrc/api/include\")\n",
    "// If you want to add library path\n",
    "#pragma cling add_library_path(\"/home/project/ml/pytorch/torch/lib\")\n",
    "// If you want to load library\n",
    "#pragma cling load(\"libtorch\")\n",
    "#pragma cling load(\"libtorch_cpu\")\n",
    "#pragma cling load(\"libc10\")"
   ]
  },
  {
   "cell_type": "markdown",
   "id": "scenic-stephen",
   "metadata": {},
   "source": [
    "----\n",
    "\n",
    "Test"
   ]
  },
  {
   "cell_type": "code",
   "execution_count": 4,
   "id": "stock-breach",
   "metadata": {},
   "outputs": [
    {
     "name": "stdout",
     "output_type": "stream",
     "text": [
      "CPUFloatType\n",
      " 1  1  1  1  1  1  1  1  1  1\n",
      " 1  1  1  1  1  1  1  1  1  1\n",
      " 1  1  1  1  1  1  1  1  1  1\n",
      "[ CPUFloatType{3,10} ]\n"
     ]
    }
   ],
   "source": [
    "#include <iostream>\n",
    "#include <ATen/ATen.h>\n",
    "\n",
    "auto p = at::CPU(at::kFloat);\n",
    "std::cout << p << \"\\n\";\n",
    "auto t = at::ones({3, 10}, p);\n",
    "std::cout << t << \"\\n\";"
   ]
  },
  {
   "cell_type": "code",
   "execution_count": 5,
   "id": "interested-teach",
   "metadata": {},
   "outputs": [
    {
     "data": {
      "text/plain": [
       "2"
      ]
     },
     "execution_count": 5,
     "metadata": {},
     "output_type": "execute_result"
    }
   ],
   "source": [
    "t.sizes().size()"
   ]
  },
  {
   "cell_type": "code",
   "execution_count": null,
   "id": "rational-mission",
   "metadata": {},
   "outputs": [],
   "source": []
  },
  {
   "cell_type": "markdown",
   "id": "thick-central",
   "metadata": {},
   "source": [
    "----"
   ]
  },
  {
   "cell_type": "markdown",
   "id": "saved-sympathy",
   "metadata": {},
   "source": [
    "Iterate over input (B, C, H, w), output (B, C, h, w), weights (1, 1, h * M, 1)"
   ]
  },
  {
   "cell_type": "code",
   "execution_count": 6,
   "id": "liberal-jonathan",
   "metadata": {},
   "outputs": [],
   "source": [
    "#include <vector>\n",
    "#include <ATen/native/TensorIterator.h>"
   ]
  },
  {
   "cell_type": "code",
   "execution_count": 26,
   "id": "rising-leather",
   "metadata": {},
   "outputs": [],
   "source": [
    "at::Tensor input = at::arange(2 * 3 * 10 * 5, at::CPU(at::kFloat)).reshape({2, 3, 10, 5});\n",
    "at::Tensor output = at::zeros({2, 3, 4, 5});\n",
    "\n",
    "int ndims = input.dim();\n",
    "int reshape_dim = 2;\n",
    "int output_size = output.sizes()[reshape_dim];\n",
    "\n",
    "// Restride input\n",
    "{\n",
    "    auto shape = input.sizes().vec();\n",
    "    auto strides = input.strides().vec();\n",
    "    auto oshape = output.sizes();\n",
    "\n",
    "    for (int i=2; i<ndims; i++) {\n",
    "        shape[i] = oshape[i];\n",
    "        strides[i] = 0;\n",
    "    }\n",
    "    input = input.as_strided(shape, strides);\n",
    "}\n",
    "\n",
    "// Define indices\n",
    "at::Tensor indices;\n",
    "auto new_shape = std::vector<int64_t>(ndims);\n",
    "for (int j=0; j<new_shape.size(); j++) {\n",
    "    new_shape[j] = 1;\n",
    "}\n",
    "new_shape[reshape_dim] = output_size;\n",
    "\n",
    "indices = at::arange(new_shape[reshape_dim], at::CPU(at::kLong)).reshape(new_shape);\n",
    "indices *= (int64_t) sizeof(float);"
   ]
  },
  {
   "cell_type": "code",
   "execution_count": 27,
   "id": "cellular-indian",
   "metadata": {},
   "outputs": [],
   "source": [
    "// Define and restride weights\n",
    "int weights_size = 3;\n",
    "at::Tensor weights;\n",
    "auto new_shape = std::vector<int64_t>(ndims);\n",
    "for (int j=0; j<new_shape.size(); j++) {\n",
    "    new_shape[j] = 1;\n",
    "}\n",
    "new_shape[reshape_dim] = output_size * weights_size;\n",
    "\n",
    "weights = at::arange(new_shape[reshape_dim], at::CPU(at::kFloat)).reshape(new_shape);\n",
    "auto strides = weights.strides().vec();\n",
    "strides[reshape_dim] = 0;\n",
    "new_shape[reshape_dim] = output_size;\n",
    "weights = weights.as_strided(new_shape, strides);"
   ]
  },
  {
   "cell_type": "code",
   "execution_count": 28,
   "id": "incredible-decade",
   "metadata": {},
   "outputs": [
    {
     "name": "stdout",
     "output_type": "stream",
     "text": [
      "-- Input strides: [150, 50, 0, 0]\n"
     ]
    }
   ],
   "source": [
    "std::cout << \"-- Input strides: \" << input.strides() << std::endl;"
   ]
  },
  {
   "cell_type": "code",
   "execution_count": 29,
   "id": "supported-wheat",
   "metadata": {},
   "outputs": [
    {
     "name": "stdout",
     "output_type": "stream",
     "text": [
      "-- Indices strides: [4, 4, 1, 1]\n"
     ]
    }
   ],
   "source": [
    "std::cout << \"-- Indices strides: \" << indices.strides() << std::endl;"
   ]
  },
  {
   "cell_type": "code",
   "execution_count": 30,
   "id": "critical-craps",
   "metadata": {},
   "outputs": [
    {
     "name": "stdout",
     "output_type": "stream",
     "text": [
      "-- Weights strides: [12, 12, 0, 1]\n"
     ]
    }
   ],
   "source": [
    "std::cout << \"-- Weights strides: \" << weights.strides() << std::endl;"
   ]
  },
  {
   "cell_type": "code",
   "execution_count": 31,
   "id": "august-degree",
   "metadata": {},
   "outputs": [],
   "source": [
    "auto iter = at::TensorIteratorConfig()\n",
    "    .check_all_same_dtype(false)\n",
    "    .declare_static_dtype_and_device(input.scalar_type(), input.device())\n",
    "    .add_output(output)\n",
    "    .add_input(input)\n",
    "    .add_input(indices)    \n",
    "    .add_input(weights)\n",
    "    .build();"
   ]
  },
  {
   "cell_type": "code",
   "execution_count": 34,
   "id": "distributed-dispute",
   "metadata": {},
   "outputs": [
    {
     "name": "stdout",
     "output_type": "stream",
     "text": [
      "n : 5\n",
      "Output stride: 4\n",
      "Input stride: 0\n",
      "Indices stride: 0\n",
      "Weights stride: 0\n",
      " - input data: \n",
      "0 0 0 0 0 \n",
      " - indices data: \n",
      "0 0 0 0 0 \n",
      " - weights data: \n",
      "0 1 2 | 0 1 2 | 0 1 2 | 0 1 2 | 0 1 2 | \n",
      "\n",
      "n : 5\n",
      "Output stride: 4\n",
      "Input stride: 0\n",
      "Indices stride: 0\n",
      "Weights stride: 0\n",
      " - input data: \n",
      "1 1 1 1 1 \n",
      " - indices data: \n",
      "4 4 4 4 4 \n",
      " - weights data: \n",
      "3 4 5 | 3 4 5 | 3 4 5 | 3 4 5 | 3 4 5 | \n",
      "\n",
      "n : 5\n",
      "Output stride: 4\n",
      "Input stride: 0\n",
      "Indices stride: 0\n",
      "Weights stride: 0\n",
      " - input data: \n",
      "2 2 2 2 2 \n",
      " - indices data: \n",
      "8 8 8 8 8 \n",
      " - weights data: \n",
      "6 7 8 | 6 7 8 | 6 7 8 | 6 7 8 | 6 7 8 | \n",
      "\n",
      "n : 5\n",
      "Output stride: 4\n",
      "Input stride: 0\n",
      "Indices stride: 0\n",
      "Weights stride: 0\n",
      " - input data: \n",
      "3 3 3 3 3 \n",
      " - indices data: \n",
      "12 12 12 12 12 \n",
      " - weights data: \n",
      "9 10 11 | 9 10 11 | 9 10 11 | 9 10 11 | 9 10 11 | \n",
      "\n",
      "n : 5\n",
      "Output stride: 4\n",
      "Input stride: 0\n",
      "Indices stride: 0\n",
      "Weights stride: 0\n",
      " - input data: \n",
      "50 50 50 50 50 \n",
      " - indices data: \n",
      "0 0 0 0 0 \n",
      " - weights data: \n",
      "0 1 2 | 0 1 2 | 0 1 2 | 0 1 2 | 0 1 2 | \n",
      "\n",
      "n : 5\n",
      "Output stride: 4\n",
      "Input stride: 0\n",
      "Indices stride: 0\n",
      "Weights stride: 0\n",
      " - input data: \n",
      "51 51 51 51 51 \n",
      " - indices data: \n",
      "4 4 4 4 4 \n",
      " - weights data: \n",
      "3 4 5 | 3 4 5 | 3 4 5 | 3 4 5 | 3 4 5 | \n",
      "\n",
      "n : 5\n",
      "Output stride: 4\n",
      "Input stride: 0\n",
      "Indices stride: 0\n",
      "Weights stride: 0\n",
      " - input data: \n",
      "52 52 52 52 52 \n",
      " - indices data: \n",
      "8 8 8 8 8 \n",
      " - weights data: \n",
      "6 7 8 | 6 7 8 | 6 7 8 | 6 7 8 | 6 7 8 | \n",
      "\n",
      "n : 5\n",
      "Output stride: 4\n",
      "Input stride: 0\n",
      "Indices stride: 0\n",
      "Weights stride: 0\n",
      " - input data: \n",
      "53 53 53 53 53 \n",
      " - indices data: \n",
      "12 12 12 12 12 \n",
      " - weights data: \n",
      "9 10 11 | 9 10 11 | 9 10 11 | 9 10 11 | 9 10 11 | \n",
      "\n",
      "n : 5\n",
      "Output stride: 4\n",
      "Input stride: 0\n",
      "Indices stride: 0\n",
      "Weights stride: 0\n",
      " - input data: \n",
      "100 100 100 100 100 \n",
      " - indices data: \n",
      "0 0 0 0 0 \n",
      " - weights data: \n",
      "0 1 2 | 0 1 2 | 0 1 2 | 0 1 2 | 0 1 2 | \n",
      "\n",
      "n : 5\n",
      "Output stride: 4\n",
      "Input stride: 0\n",
      "Indices stride: 0\n",
      "Weights stride: 0\n",
      " - input data: \n",
      "101 101 101 101 101 \n",
      " - indices data: \n",
      "4 4 4 4 4 \n",
      " - weights data: \n",
      "3 4 5 | 3 4 5 | 3 4 5 | 3 4 5 | 3 4 5 | \n",
      "\n",
      "n : 5\n",
      "Output stride: 4\n",
      "Input stride: 0\n",
      "Indices stride: 0\n",
      "Weights stride: 0\n",
      " - input data: \n",
      "102 102 102 102 102 \n",
      " - indices data: \n",
      "8 8 8 8 8 \n",
      " - weights data: \n",
      "6 7 8 | 6 7 8 | 6 7 8 | 6 7 8 | 6 7 8 | \n",
      "\n",
      "n : 5\n",
      "Output stride: 4\n",
      "Input stride: 0\n",
      "Indices stride: 0\n",
      "Weights stride: 0\n",
      " - input data: \n",
      "103 103 103 103 103 \n",
      " - indices data: \n",
      "12 12 12 12 12 \n",
      " - weights data: \n",
      "9 10 11 | 9 10 11 | 9 10 11 | 9 10 11 | 9 10 11 | \n",
      "\n",
      "n : 5\n",
      "Output stride: 4\n",
      "Input stride: 0\n",
      "Indices stride: 0\n",
      "Weights stride: 0\n",
      " - input data: \n",
      "150 150 150 150 150 \n",
      " - indices data: \n",
      "0 0 0 0 0 \n",
      " - weights data: \n",
      "0 1 2 | 0 1 2 | 0 1 2 | 0 1 2 | 0 1 2 | \n",
      "\n",
      "n : 5\n",
      "Output stride: 4\n",
      "Input stride: 0\n",
      "Indices stride: 0\n",
      "Weights stride: 0\n",
      " - input data: \n",
      "151 151 151 151 151 \n",
      " - indices data: \n",
      "4 4 4 4 4 \n",
      " - weights data: \n",
      "3 4 5 | 3 4 5 | 3 4 5 | 3 4 5 | 3 4 5 | \n",
      "\n",
      "n : 5\n",
      "Output stride: 4\n",
      "Input stride: 0\n",
      "Indices stride: 0\n",
      "Weights stride: 0\n",
      " - input data: \n",
      "152 152 152 152 152 \n",
      " - indices data: \n",
      "8 8 8 8 8 \n",
      " - weights data: \n",
      "6 7 8 | 6 7 8 | 6 7 8 | 6 7 8 | 6 7 8 | \n",
      "\n",
      "n : 5\n",
      "Output stride: 4\n",
      "Input stride: 0\n",
      "Indices stride: 0\n",
      "Weights stride: 0\n",
      " - input data: \n",
      "153 153 153 153 153 \n",
      " - indices data: \n",
      "12 12 12 12 12 \n",
      " - weights data: \n",
      "9 10 11 | 9 10 11 | 9 10 11 | 9 10 11 | 9 10 11 | \n",
      "\n",
      "n : 5\n",
      "Output stride: 4\n",
      "Input stride: 0\n",
      "Indices stride: 0\n",
      "Weights stride: 0\n",
      " - input data: \n",
      "200 200 200 200 200 \n",
      " - indices data: \n",
      "0 0 0 0 0 \n",
      " - weights data: \n",
      "0 1 2 | 0 1 2 | 0 1 2 | 0 1 2 | 0 1 2 | \n",
      "\n",
      "n : 5\n",
      "Output stride: 4\n",
      "Input stride: 0\n",
      "Indices stride: 0\n",
      "Weights stride: 0\n",
      " - input data: \n",
      "201 201 201 201 201 \n",
      " - indices data: \n",
      "4 4 4 4 4 \n",
      " - weights data: \n",
      "3 4 5 | 3 4 5 | 3 4 5 | 3 4 5 | 3 4 5 | \n",
      "\n",
      "n : 5\n",
      "Output stride: 4\n",
      "Input stride: 0\n",
      "Indices stride: 0\n",
      "Weights stride: 0\n",
      " - input data: \n",
      "202 202 202 202 202 \n",
      " - indices data: \n",
      "8 8 8 8 8 \n",
      " - weights data: \n",
      "6 7 8 | 6 7 8 | 6 7 8 | 6 7 8 | 6 7 8 | \n",
      "\n",
      "n : 5\n",
      "Output stride: 4\n",
      "Input stride: 0\n",
      "Indices stride: 0\n",
      "Weights stride: 0\n",
      " - input data: \n",
      "203 203 203 203 203 \n",
      " - indices data: \n",
      "12 12 12 12 12 \n",
      " - weights data: \n",
      "9 10 11 | 9 10 11 | 9 10 11 | 9 10 11 | 9 10 11 | \n",
      "\n",
      "n : 5\n",
      "Output stride: 4\n",
      "Input stride: 0\n",
      "Indices stride: 0\n",
      "Weights stride: 0\n",
      " - input data: \n",
      "250 250 250 250 250 \n",
      " - indices data: \n",
      "0 0 0 0 0 \n",
      " - weights data: \n",
      "0 1 2 | 0 1 2 | 0 1 2 | 0 1 2 | 0 1 2 | \n",
      "\n",
      "n : 5\n",
      "Output stride: 4\n",
      "Input stride: 0\n",
      "Indices stride: 0\n",
      "Weights stride: 0\n",
      " - input data: \n",
      "251 251 251 251 251 \n",
      " - indices data: \n",
      "4 4 4 4 4 \n",
      " - weights data: \n",
      "3 4 5 | 3 4 5 | 3 4 5 | 3 4 5 | 3 4 5 | \n",
      "\n",
      "n : 5\n",
      "Output stride: 4\n",
      "Input stride: 0\n",
      "Indices stride: 0\n",
      "Weights stride: 0\n",
      " - input data: \n",
      "252 252 252 252 252 \n",
      " - indices data: \n",
      "8 8 8 8 8 \n",
      " - weights data: \n",
      "6 7 8 | 6 7 8 | 6 7 8 | 6 7 8 | 6 7 8 | \n",
      "\n",
      "n : 5\n",
      "Output stride: 4\n",
      "Input stride: 0\n",
      "Indices stride: 0\n",
      "Weights stride: 0\n",
      " - input data: \n",
      "253 253 253 253 253 \n",
      " - indices data: \n",
      "12 12 12 12 12 \n",
      " - weights data: \n",
      "9 10 11 | 9 10 11 | 9 10 11 | 9 10 11 | 9 10 11 | \n",
      "\n"
     ]
    }
   ],
   "source": [
    "auto test_loop = [&](char **data, const int64_t* strides, int64_t n) {\n",
    "\n",
    "    std::cout << \"n : \" << n << std::endl;\n",
    "    std::cout << \"Output stride: \" << strides[0] << std::endl;\n",
    "    std::cout << \"Input stride: \" << strides[1] << std::endl;\n",
    "    std::cout << \"Indices stride: \" << strides[2] << std::endl;\n",
    "    std::cout << \"Weights stride: \" << strides[3] << std::endl;\n",
    "    \n",
    "    auto * out = data[0];\n",
    "    auto * in = data[1];\n",
    "    auto * idx = data[2];\n",
    "    auto * wts = data[3];\n",
    "\n",
    "    \n",
    "    // assume float data type for this example.\n",
    "    std::cout << \" - input data: \" << std::endl;\n",
    "    for (int i = 0; i < n; i++) {\n",
    "        std::cout << *reinterpret_cast<float*>(&in[i * strides[1] + idx[i * strides[2]]]) << \" \";\n",
    "    }\n",
    "    std::cout << std::endl;\n",
    "\n",
    "    std::cout << \" - indices data: \" << std::endl;\n",
    "    for (int i = 0; i < n; i++) {\n",
    "        std::cout << *reinterpret_cast<long*>(&idx[i * strides[2]]) << \" \";\n",
    "    }\n",
    "    std::cout << std::endl;\n",
    "        \n",
    "    std::cout << \" - weights data: \" << std::endl;\n",
    "    for (int i = 0; i < n; i++) {\n",
    "        for (int j = 0; j < weights_size; j++) {\n",
    "            std::cout << *reinterpret_cast<float*>(&wts[i * strides[3] + weights_size * idx[i * strides[2]] + j * sizeof(float)]) << \" \";            \n",
    "        }\n",
    "        std::cout << \"| \";\n",
    "\n",
    "    }\n",
    "    std::cout << std::endl;\n",
    "    \n",
    "    std::cout << std::endl;\n",
    "};\n",
    "\n",
    "\n",
    "\n",
    "iter.for_each(test_loop);"
   ]
  },
  {
   "cell_type": "code",
   "execution_count": null,
   "id": "demanding-laser",
   "metadata": {},
   "outputs": [],
   "source": []
  },
  {
   "cell_type": "code",
   "execution_count": null,
   "id": "arabic-cleaners",
   "metadata": {},
   "outputs": [],
   "source": []
  },
  {
   "cell_type": "code",
   "execution_count": null,
   "id": "furnished-inspector",
   "metadata": {},
   "outputs": [],
   "source": []
  },
  {
   "cell_type": "code",
   "execution_count": null,
   "id": "impaired-repair",
   "metadata": {},
   "outputs": [],
   "source": []
  }
 ],
 "metadata": {
  "kernelspec": {
   "display_name": "C++14",
   "language": "C++14",
   "name": "xcpp14"
  },
  "language_info": {
   "codemirror_mode": "text/x-c++src",
   "file_extension": ".cpp",
   "mimetype": "text/x-c++src",
   "name": "c++",
   "version": "14"
  }
 },
 "nbformat": 4,
 "nbformat_minor": 5
}
