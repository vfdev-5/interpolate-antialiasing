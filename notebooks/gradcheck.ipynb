{
 "cells": [
  {
   "cell_type": "markdown",
   "id": "adequate-establishment",
   "metadata": {},
   "source": [
    "Gradient checking with internal testing\n",
    "\n",
    "- https://pytorch.org/docs/stable/notes/extending.html\n",
    "- https://pytorch.org/docs/stable/generated/torch.autograd.gradcheck.html?highlight=gradcheck#torch.autograd.gradcheck"
   ]
  },
  {
   "cell_type": "code",
   "execution_count": 4,
   "id": "manual-amino",
   "metadata": {},
   "outputs": [],
   "source": [
    "import torch\n",
    "\n",
    "from torch.testing._internal.common_utils import gradcheck"
   ]
  },
  {
   "cell_type": "code",
   "execution_count": 7,
   "id": "extended-london",
   "metadata": {},
   "outputs": [],
   "source": [
    "from torch.autograd import Function\n",
    "\n",
    "# Inherit from Function\n",
    "class LinearFunction(Function):\n",
    "\n",
    "    # Note that both forward and backward are @staticmethods\n",
    "    @staticmethod\n",
    "    # bias is an optional argument\n",
    "    def forward(ctx, input, weight, bias=None):\n",
    "        ctx.save_for_backward(input, weight, bias)\n",
    "        output = input.mm(weight.t())\n",
    "        if bias is not None:\n",
    "            output += bias.unsqueeze(0).expand_as(output)\n",
    "        return output\n",
    "\n",
    "    # This function has only a single output, so it gets only one gradient\n",
    "    @staticmethod\n",
    "    def backward(ctx, grad_output):\n",
    "        # This is a pattern that is very convenient - at the top of backward\n",
    "        # unpack saved_tensors and initialize all gradients w.r.t. inputs to\n",
    "        # None. Thanks to the fact that additional trailing Nones are\n",
    "        # ignored, the return statement is simple even when the function has\n",
    "        # optional inputs.\n",
    "        input, weight, bias = ctx.saved_tensors\n",
    "        grad_input = grad_weight = grad_bias = None\n",
    "\n",
    "        # These needs_input_grad checks are optional and there only to\n",
    "        # improve efficiency. If you want to make your code simpler, you can\n",
    "        # skip them. Returning gradients for inputs that don't require it is\n",
    "        # not an error.\n",
    "        if ctx.needs_input_grad[0]:\n",
    "            grad_input = grad_output.mm(weight)\n",
    "        if ctx.needs_input_grad[1]:\n",
    "            grad_weight = grad_output.t().mm(input)\n",
    "        if bias is not None and ctx.needs_input_grad[2]:\n",
    "            grad_bias = grad_output.sum(0)\n",
    "\n",
    "        return grad_input, grad_weight, grad_bias"
   ]
  },
  {
   "cell_type": "code",
   "execution_count": 9,
   "id": "further-publication",
   "metadata": {},
   "outputs": [],
   "source": [
    "linear = LinearFunction.apply"
   ]
  },
  {
   "cell_type": "code",
   "execution_count": 11,
   "id": "sacred-church",
   "metadata": {},
   "outputs": [
    {
     "name": "stdout",
     "output_type": "stream",
     "text": [
      "True\n"
     ]
    }
   ],
   "source": [
    "# gradcheck takes a tuple of tensors as input, check if your gradient\n",
    "# evaluated with these tensors are close enough to numerical\n",
    "# approximations and returns True if they all verify this condition.\n",
    "input = (\n",
    "    torch.randn(20, 20, dtype=torch.double, requires_grad=True), \n",
    "    torch.randn(30, 20, dtype=torch.double, requires_grad=True),\n",
    ")\n",
    "test = gradcheck(linear, input, eps=1e-6, atol=1e-4)\n",
    "print(test)"
   ]
  },
  {
   "cell_type": "code",
   "execution_count": null,
   "id": "difficult-newsletter",
   "metadata": {},
   "outputs": [],
   "source": []
  },
  {
   "cell_type": "markdown",
   "id": "junior-modern",
   "metadata": {},
   "source": [
    "Compute grad on 1d data"
   ]
  },
  {
   "cell_type": "code",
   "execution_count": 31,
   "id": "difficult-revision",
   "metadata": {},
   "outputs": [],
   "source": [
    "import torch\n",
    "from torch.nn.functional import interpolate\n",
    "\n",
    "\n",
    "t = torch.arange(16, dtype=torch.float, requires_grad=True)\n",
    "t.grad"
   ]
  },
  {
   "cell_type": "code",
   "execution_count": 32,
   "id": "powered-command",
   "metadata": {},
   "outputs": [
    {
     "data": {
      "text/plain": [
       "tensor([[[ 1.1000,  4.3000,  7.5000, 10.7000, 13.9000]]],\n",
       "       grad_fn=<UpsampleLinear1DBackward1>)"
      ]
     },
     "execution_count": 32,
     "metadata": {},
     "output_type": "execute_result"
    }
   ],
   "source": [
    "out = interpolate(t[None, None, :], size=(5, ), mode=\"linear\")\n",
    "out"
   ]
  },
  {
   "cell_type": "code",
   "execution_count": 33,
   "id": "czech-sphere",
   "metadata": {},
   "outputs": [],
   "source": [
    "out.sum().backward()"
   ]
  },
  {
   "cell_type": "code",
   "execution_count": 34,
   "id": "thick-albuquerque",
   "metadata": {},
   "outputs": [
    {
     "data": {
      "text/plain": [
       "tensor([0.0000, 0.9000, 0.1000, 0.0000, 0.7000, 0.3000, 0.0000, 0.5000, 0.5000,\n",
       "        0.0000, 0.3000, 0.7000, 0.0000, 0.1000, 0.9000, 0.0000])"
      ]
     },
     "execution_count": 34,
     "metadata": {},
     "output_type": "execute_result"
    }
   ],
   "source": [
    "t.grad"
   ]
  },
  {
   "cell_type": "code",
   "execution_count": 41,
   "id": "beautiful-purple",
   "metadata": {},
   "outputs": [
    {
     "name": "stdout",
     "output_type": "stream",
     "text": [
      "1.1 2.0\n",
      "1 2\n",
      "0.8999999999999999 0.10000000000000009\n"
     ]
    },
    {
     "data": {
      "text/plain": [
       "tensor(1.1000, grad_fn=<AddBackward0>)"
      ]
     },
     "execution_count": 41,
     "metadata": {},
     "output_type": "execute_result"
    }
   ],
   "source": [
    "scale = 16 / 5\n",
    "ri0 = scale * (0.0 + 0.5) - 0.5;\n",
    "ri1 = i0 + 1.0\n",
    "i0 = int(ri0)\n",
    "i1 = int(ri1)\n",
    "print(ri0, ri1)\n",
    "print(i0, i1)\n",
    "\n",
    "w1 = ri0 - i0\n",
    "w0 = 1.0 - w1\n",
    "print(w0, w1)\n",
    "\n",
    "out_p0 = w0 * t[i0] + w1 * t[i1]\n",
    "out_p0"
   ]
  },
  {
   "cell_type": "code",
   "execution_count": null,
   "id": "crude-greeting",
   "metadata": {},
   "outputs": [],
   "source": []
  },
  {
   "cell_type": "code",
   "execution_count": null,
   "id": "hourly-despite",
   "metadata": {},
   "outputs": [],
   "source": []
  },
  {
   "cell_type": "code",
   "execution_count": null,
   "id": "leading-token",
   "metadata": {},
   "outputs": [],
   "source": []
  }
 ],
 "metadata": {
  "kernelspec": {
   "display_name": "Python 3",
   "language": "python",
   "name": "python3"
  },
  "language_info": {
   "codemirror_mode": {
    "name": "ipython",
    "version": 3
   },
   "file_extension": ".py",
   "mimetype": "text/x-python",
   "name": "python",
   "nbconvert_exporter": "python",
   "pygments_lexer": "ipython3",
   "version": "3.8.2"
  }
 },
 "nbformat": 4,
 "nbformat_minor": 5
}
